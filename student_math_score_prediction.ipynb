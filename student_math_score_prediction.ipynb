{
 "cells": [
  {
   "cell_type": "markdown",
   "id": "c74ad52f",
   "metadata": {},
   "source": [
    "## Student Math Performance Predictor - Multi-Model Comparison\n",
    "\n",
    "\n",
    "Description:\n",
    "We developed a student performance classification that compares three ML algorithms to predict whether \n",
    "a student will be a high or low performer based on their academic.\n",
    "\n",
    "\n",
    "The code trains, evaluates, and visualizes model performance using standard classification metrics to determine \n",
    "the most effective approach for educational outcome prediction.\n",
    "\n"
   ]
  },
  {
   "cell_type": "code",
   "execution_count": 29,
   "id": "2bdab425",
   "metadata": {},
   "outputs": [],
   "source": [
    "import pandas as pd\n",
    "import numpy as np\n",
    "import seaborn as sns\n",
    "from sklearn.model_selection import train_test_split\n",
    "from sklearn.preprocessing import StandardScaler\n",
    "from sklearn.linear_model import LinearRegression, LogisticRegression\n",
    "from sklearn.ensemble import RandomForestClassifier\n",
    "from sklearn.metrics import accuracy_score, precision_score, recall_score, f1_score\n",
    "import matplotlib.pyplot as plt\n",
    "from sklearn.model_selection import cross_val_score\n",
    "import warnings\n",
    "warnings.filterwarnings('ignore')  \n"
   ]
  },
  {
   "cell_type": "markdown",
   "id": "60aea6ce",
   "metadata": {},
   "source": [
    "## Load and Prepare Data for Classification\n"
   ]
  },
  {
   "cell_type": "code",
   "execution_count": null,
   "id": "afeec70e",
   "metadata": {},
   "outputs": [],
   "source": [
    "def load_and_prepare_data(filepath):\n",
    "    \"\"\"Load and prepare data for classification\"\"\"\n",
    "    df = pd.read_csv(\"nas-students-data.csv\")\n",
    "    \n",
    "    df['Performance_Category'] = (df['Maths_Percentage'] >= df['Maths_Percentage'].median()).astype(int)\n",
    "    \n",
    "    df.fillna(df.median(numeric_only=True), inplace=True)\n",
    "    df.fillna(df.mode().iloc[0], inplace=True)\n",
    "    \n",
    "    df_encoded = pd.get_dummies(df, drop_first=True)\n",
    "    \n",
    "    X = df_encoded.drop(columns=['Performance_Category'], errors='ignore')\n",
    "    y = df_encoded['Performance_Category']\n",
    "    \n",
    "    return X, y\n"
   ]
  },
  {
   "cell_type": "markdown",
   "id": "fb306ffa",
   "metadata": {},
   "source": [
    "## Model Evaluation Function"
   ]
  },
  {
   "cell_type": "code",
   "execution_count": 31,
   "id": "a7c95bbe",
   "metadata": {},
   "outputs": [],
   "source": [
    "def evaluate_model(model, X_train, X_test, y_train, y_test, model_name):\n",
    "    \"\"\"Evaluate model and return classification metrics\"\"\"\n",
    "    model.fit(X_train, y_train)\n",
    "    y_pred = model.predict(X_test)\n",
    " \n",
    "    if model_name == \"Linear Regression\":\n",
    "        y_pred = (y_pred >= 0.5).astype(int)\n",
    "    \n",
    "    accuracy = accuracy_score(y_test, y_pred)\n",
    "    precision = precision_score(y_test, y_pred)\n",
    "    recall = recall_score(y_test, y_pred)\n",
    "    f1 = f1_score(y_test, y_pred)\n",
    "    \n",
    "    print(f\"\\n{model_name}:\")\n",
    "    print(f\"  Accuracy:  {accuracy:.4f}\")\n",
    "    print(f\"  Precision: {precision:.4f}\")\n",
    "    print(f\"  Recall:    {recall:.4f}\")\n",
    "    print(f\"  F1-Score:  {f1:.4f}\")\n",
    "    \n",
    "    return accuracy, precision, recall, f1\n"
   ]
  },
  {
   "cell_type": "markdown",
   "id": "5e89f8b0",
   "metadata": {},
   "source": [
    "## Data Overview and Train-Test Split\n"
   ]
  },
  {
   "cell_type": "code",
   "execution_count": 32,
   "id": "377a2325",
   "metadata": {},
   "outputs": [
    {
     "name": "stdout",
     "output_type": "stream",
     "text": [
      "Dataset shape: (8044, 70)\n",
      "Number of features: 70\n",
      "Target distribution:\n",
      "Performance_Category\n",
      "1    4163\n",
      "0    3881\n",
      "Name: count, dtype: int64\n",
      "\n",
      "Train set size: 6435\n",
      "Test set size: (1609, 70)\n"
     ]
    }
   ],
   "source": [
    "X, y = load_and_prepare_data(\"nas-students-data.csv\")\n",
    "\n",
    "print(f\"Dataset shape: {X.shape}\")\n",
    "print(f\"Number of features: {X.shape[1]}\")\n",
    "print(f\"Target distribution:\")\n",
    "print(y.value_counts())\n",
    "\n",
    "X_train, X_test, y_train, y_test = train_test_split(\n",
    "    X, y, test_size=0.2, random_state=42, stratify=y\n",
    ")\n",
    "\n",
    "print(f\"\\nTrain set size: {X_train.shape[0]}\")\n",
    "print(f\"Test set size: {X_test.shape}\")\n"
   ]
  },
  {
   "cell_type": "markdown",
   "id": "d431b2fb",
   "metadata": {},
   "source": [
    "## Data Standardization for Logistic Regression\n"
   ]
  },
  {
   "cell_type": "code",
   "execution_count": 33,
   "id": "ae11a4b0",
   "metadata": {},
   "outputs": [
    {
     "name": "stdout",
     "output_type": "stream",
     "text": [
      "Feature scaling completed for Logistic Regression\n",
      "Original feature range: [0.00, 259.22]\n",
      "Scaled feature range: [-6.29, 12.81]\n"
     ]
    }
   ],
   "source": [
    "scaler = StandardScaler()\n",
    "X_train_scaled = scaler.fit_transform(X_train)\n",
    "X_test_scaled = scaler.transform(X_test)\n",
    "\n",
    "print(\"Feature scaling completed for Logistic Regression\")\n",
    "print(f\"Original feature range: [{X_train.min().min():.2f}, {X_train.max().max():.2f}]\")\n",
    "print(f\"Scaled feature range: [{X_train_scaled.min():.2f}, {X_train_scaled.max():.2f}]\")\n"
   ]
  },
  {
   "cell_type": "markdown",
   "id": "2c0f6a2c",
   "metadata": {},
   "source": [
    "## Train and Evaluate All Models\n"
   ]
  },
  {
   "cell_type": "code",
   "execution_count": 34,
   "id": "8b7e311c",
   "metadata": {},
   "outputs": [
    {
     "name": "stdout",
     "output_type": "stream",
     "text": [
      "==================================================\n",
      "MODEL COMPARISON RESULTS\n",
      "==================================================\n",
      "\n",
      "Training Linear Regression...\n",
      "\n",
      "Linear Regression:\n",
      "  Accuracy:  0.8701\n",
      "  Precision: 0.9984\n",
      "  Recall:    0.7503\n",
      "  F1-Score:  0.8568\n",
      "\n",
      "Training Random Forest...\n",
      "\n",
      "Random Forest:\n",
      "  Accuracy:  1.0000\n",
      "  Precision: 1.0000\n",
      "  Recall:    1.0000\n",
      "  F1-Score:  1.0000\n",
      "\n",
      "Training Logistic Regression...\n",
      "\n",
      "Logistic Regression:\n",
      "  Accuracy:  0.9938\n",
      "  Precision: 0.9964\n",
      "  Recall:    0.9916\n",
      "  F1-Score:  0.9940\n"
     ]
    }
   ],
   "source": [
    "print(\"=\"*50)\n",
    "print(\"MODEL COMPARISON RESULTS\")\n",
    "print(\"=\"*50)\n",
    "\n",
    "results = []\n",
    "\n",
    "models = [\n",
    "    (\"Linear Regression\", LinearRegression(), X_train, X_test),\n",
    "    (\"Random Forest\", RandomForestClassifier(random_state=42, n_jobs=-1), X_train, X_test),\n",
    "    (\"Logistic Regression\", LogisticRegression(random_state=42, max_iter=1000), X_train_scaled, X_test_scaled)\n",
    "]\n",
    "\n",
    "for name, model, X_tr, X_te in models:\n",
    "    print(f\"\\nTraining {name}...\")\n",
    "    acc, prec, rec, f1 = evaluate_model(model, X_tr, X_te, y_train, y_test, name)\n",
    "    results.append([name, acc, prec, rec, f1])\n"
   ]
  },
  {
   "cell_type": "markdown",
   "id": "57b75194",
   "metadata": {},
   "source": [
    "## Results Summary Table\n"
   ]
  },
  {
   "cell_type": "code",
   "execution_count": 35,
   "id": "30bf6a59",
   "metadata": {},
   "outputs": [
    {
     "name": "stdout",
     "output_type": "stream",
     "text": [
      "\n",
      "==================================================\n",
      "SUMMARY TABLE\n",
      "==================================================\n",
      "                 Model  Accuracy  Precision  Recall  F1-Score\n",
      "0    Linear Regression    0.8701     0.9984  0.7503    0.8568\n",
      "1        Random Forest    1.0000     1.0000  1.0000    1.0000\n",
      "2  Logistic Regression    0.9938     0.9964  0.9916    0.9940\n"
     ]
    }
   ],
   "source": [
    "results_df = pd.DataFrame(results, columns=['Model', 'Accuracy', 'Precision', 'Recall', 'F1-Score'])\n",
    "\n",
    "print(\"\\n\" + \"=\"*50)\n",
    "print(\"SUMMARY TABLE\")\n",
    "print(\"=\"*50)\n",
    "print(results_df.round(4))\n"
   ]
  },
  {
   "cell_type": "markdown",
   "id": "9c2a90ca",
   "metadata": {},
   "source": [
    "## Model Performance Visualization\n"
   ]
  },
  {
   "cell_type": "code",
   "execution_count": 36,
   "id": "5fd7eda0",
   "metadata": {},
   "outputs": [
    {
     "data": {
      "image/png": "[encoded data removed]",
      "text/plain": [
       "<Figure size 1000x600 with 1 Axes>"
      ]
     },
     "metadata": {},
     "output_type": "display_data"
    }
   ],
   "source": [
    "plt.figure(figsize=(10, 6))\n",
    "results_melted = results_df.melt(id_vars='Model', var_name='Metric', value_name='Score')\n",
    "sns.barplot(data=results_melted, x='Model', y='Score', hue='Metric')\n",
    "plt.title('Model Performance Comparison')\n",
    "plt.xticks(rotation=45)\n",
    "plt.show()"
   ]
  },
  {
   "cell_type": "markdown",
   "id": "352ac0a6",
   "metadata": {},
   "source": [
    "## Cross-Validation: Overfitting Check\n"
   ]
  },
  {
   "cell_type": "code",
   "execution_count": 40,
   "id": "2cfddfd0",
   "metadata": {},
   "outputs": [
    {
     "name": "stdout",
     "output_type": "stream",
     "text": [
      "Random Forest CV F1 Scores: [1.         1.         1.         1.         0.99521531]\n",
      "Mean CV F1: 0.9990 ± 0.0019\n",
      "Model seems robust\n"
     ]
    }
   ],
   "source": [
    "rf_cv_scores = cross_val_score(rf_model, X, y, cv=5, scoring='f1')\n",
    "print(f\"Random Forest CV F1 Scores: {rf_cv_scores}\")\n",
    "print(f\"Mean CV F1: {rf_cv_scores.mean():.4f} ± {rf_cv_scores.std():.4f}\")\n",
    "\n",
    "if rf_cv_scores.mean() < 0.95:\n",
    "    print(\"Possible overfitting detected!\")\n",
    "else:\n",
    "    print(\"Model seems robust\")\n"
   ]
  },
  {
   "cell_type": "markdown",
   "id": "b8110119",
   "metadata": {},
   "source": [
    "## Additional Validation Split Test\n"
   ]
  },
  {
   "cell_type": "code",
   "execution_count": 41,
   "id": "b9f95176",
   "metadata": {},
   "outputs": [
    {
     "name": "stdout",
     "output_type": "stream",
     "text": [
      "Validation Accuracy: 1.0000\n"
     ]
    }
   ],
   "source": [
    "X_temp, X_val, y_temp, y_val = train_test_split(X_train, y_train, test_size=0.2, random_state=42)\n",
    "\n",
    "rf_test = RandomForestClassifier(random_state=42, n_jobs=-1)\n",
    "rf_test.fit(X_temp, y_temp)\n",
    "\n",
    "val_score = rf_test.score(X_val, y_val)\n",
    "print(f\"Validation Accuracy: {val_score:.4f}\")\n",
    "\n",
    "if val_score < 0.95:\n",
    "    print(\"Model overfitting to training data\")\n"
   ]
  }
 ],
 "metadata": {
  "kernelspec": {
   "display_name": "kruman (3.12.7)",
   "language": "python",
   "name": "python3"
  },
  "language_info": {
   "codemirror_mode": {
    "name": "ipython",
    "version": 3
   },
   "file_extension": ".py",
   "mimetype": "text/x-python",
   "name": "python",
   "nbconvert_exporter": "python",
   "pygments_lexer": "ipython3",
   "version": "3.12.7"
  }
 },
 "nbformat": 4,
 "nbformat_minor": 5
}
